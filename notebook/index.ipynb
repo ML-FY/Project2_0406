{
 "cells": [
  {
   "attachments": {},
   "cell_type": "markdown",
   "metadata": {},
   "source": [
    "## Content\n",
    "\n",
    "1. [imagenettetvt320_ImageClassification](./imagenettetvt320_ImageClassification.html)\n"
   ]
  }
 ],
 "metadata": {
  "kernelspec": {
   "display_name": "new",
   "language": "python",
   "name": "python3"
  },
  "language_info": {
   "name": "python",
   "version": "3.10.9 | packaged by Anaconda, Inc. | (main, Mar  8 2023, 10:42:25) [MSC v.1916 64 bit (AMD64)]"
  },
  "orig_nbformat": 4,
  "vscode": {
   "interpreter": {
    "hash": "d015d64fdacb3d85d0f62744193676c8c5d0e8c0548cf9bc6d29a46a12543931"
   }
  }
 },
 "nbformat": 4,
 "nbformat_minor": 2
}
